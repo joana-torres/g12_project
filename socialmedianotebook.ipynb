{
 "cells": [
  {
   "cell_type": "code",
   "execution_count": 142,
   "id": "759039b4-64a7-48a7-9521-ee2e36198158",
   "metadata": {},
   "outputs": [],
   "source": [
    "import pandas as pd"
   ]
  },
  {
   "cell_type": "code",
   "execution_count": 143,
   "id": "8af2e44f-f0b4-41f1-b5a5-4254461ebc31",
   "metadata": {},
   "outputs": [],
   "source": [
    "df = pd.read_csv('excel.csv',sep=';')"
   ]
  },
  {
   "cell_type": "code",
   "execution_count": 144,
   "id": "b5a139ca-4727-4428-9dd5-56454a62b5ad",
   "metadata": {},
   "outputs": [
    {
     "data": {
      "text/html": [
       "<div>\n",
       "<style scoped>\n",
       "    .dataframe tbody tr th:only-of-type {\n",
       "        vertical-align: middle;\n",
       "    }\n",
       "\n",
       "    .dataframe tbody tr th {\n",
       "        vertical-align: top;\n",
       "    }\n",
       "\n",
       "    .dataframe thead th {\n",
       "        text-align: right;\n",
       "    }\n",
       "</style>\n",
       "<table border=\"1\" class=\"dataframe\">\n",
       "  <thead>\n",
       "    <tr style=\"text-align: right;\">\n",
       "      <th></th>\n",
       "      <th>users_id</th>\n",
       "      <th>posts_id</th>\n",
       "      <th>like_date</th>\n",
       "      <th>user_name</th>\n",
       "      <th>email</th>\n",
       "      <th>signup_date</th>\n",
       "      <th>content</th>\n",
       "      <th>post_date</th>\n",
       "      <th>topic_id</th>\n",
       "      <th>topic_name</th>\n",
       "      <th>description</th>\n",
       "    </tr>\n",
       "  </thead>\n",
       "  <tbody>\n",
       "    <tr>\n",
       "      <th>0</th>\n",
       "      <td>217</td>\n",
       "      <td>3517</td>\n",
       "      <td>13/01/2025</td>\n",
       "      <td>Cameron Perez</td>\n",
       "      <td>pagenathaniel@example.net</td>\n",
       "      <td>08/02/2025</td>\n",
       "      <td>Ok age performance action drug start choose ra...</td>\n",
       "      <td>01/02/2025</td>\n",
       "      <td>14</td>\n",
       "      <td>miss</td>\n",
       "      <td>Character effort color my which policy control...</td>\n",
       "    </tr>\n",
       "    <tr>\n",
       "      <th>1</th>\n",
       "      <td>1678</td>\n",
       "      <td>6539</td>\n",
       "      <td>19/01/2025</td>\n",
       "      <td>Eric Nguyen</td>\n",
       "      <td>alisonklein@example.org</td>\n",
       "      <td>15/02/2025</td>\n",
       "      <td>Nice game play poor least democratic name kitc...</td>\n",
       "      <td>05/02/2025</td>\n",
       "      <td>4</td>\n",
       "      <td>everybody</td>\n",
       "      <td>Kid young Democrat week.</td>\n",
       "    </tr>\n",
       "    <tr>\n",
       "      <th>2</th>\n",
       "      <td>4456</td>\n",
       "      <td>926</td>\n",
       "      <td>13/02/2025</td>\n",
       "      <td>Brandon Lara</td>\n",
       "      <td>shawn30@example.net</td>\n",
       "      <td>04/02/2025</td>\n",
       "      <td>Certain task win standard rock face fish feeli...</td>\n",
       "      <td>22/02/2025</td>\n",
       "      <td>13</td>\n",
       "      <td>loss</td>\n",
       "      <td>Skin police agreement father.</td>\n",
       "    </tr>\n",
       "  </tbody>\n",
       "</table>\n",
       "</div>"
      ],
      "text/plain": [
       "   users_id  posts_id   like_date      user_name                      email  \\\n",
       "0       217      3517  13/01/2025  Cameron Perez  pagenathaniel@example.net   \n",
       "1      1678      6539  19/01/2025    Eric Nguyen    alisonklein@example.org   \n",
       "2      4456       926  13/02/2025   Brandon Lara        shawn30@example.net   \n",
       "\n",
       "  signup_date                                            content   post_date  \\\n",
       "0  08/02/2025  Ok age performance action drug start choose ra...  01/02/2025   \n",
       "1  15/02/2025  Nice game play poor least democratic name kitc...  05/02/2025   \n",
       "2  04/02/2025  Certain task win standard rock face fish feeli...  22/02/2025   \n",
       "\n",
       "   topic_id topic_name                                        description  \n",
       "0        14       miss  Character effort color my which policy control...  \n",
       "1         4  everybody                           Kid young Democrat week.  \n",
       "2        13       loss                      Skin police agreement father.  "
      ]
     },
     "execution_count": 144,
     "metadata": {},
     "output_type": "execute_result"
    }
   ],
   "source": [
    "df.head(3)\n"
   ]
  },
  {
   "cell_type": "code",
   "execution_count": 145,
   "id": "822bdbcd-959d-4d38-b8f1-de9527e46058",
   "metadata": {},
   "outputs": [],
   "source": [
    "Post = df.loc[:,['posts_id','post_date','topic_id','content']]"
   ]
  },
  {
   "cell_type": "code",
   "execution_count": 146,
   "id": "d82d0dd5-e6d8-4ff7-b954-31e69ca8e9da",
   "metadata": {},
   "outputs": [
    {
     "data": {
      "text/html": [
       "<div>\n",
       "<style scoped>\n",
       "    .dataframe tbody tr th:only-of-type {\n",
       "        vertical-align: middle;\n",
       "    }\n",
       "\n",
       "    .dataframe tbody tr th {\n",
       "        vertical-align: top;\n",
       "    }\n",
       "\n",
       "    .dataframe thead th {\n",
       "        text-align: right;\n",
       "    }\n",
       "</style>\n",
       "<table border=\"1\" class=\"dataframe\">\n",
       "  <thead>\n",
       "    <tr style=\"text-align: right;\">\n",
       "      <th></th>\n",
       "      <th>posts_id</th>\n",
       "      <th>post_date</th>\n",
       "      <th>topic_id</th>\n",
       "      <th>content</th>\n",
       "    </tr>\n",
       "  </thead>\n",
       "  <tbody>\n",
       "    <tr>\n",
       "      <th>0</th>\n",
       "      <td>3517</td>\n",
       "      <td>01/02/2025</td>\n",
       "      <td>14</td>\n",
       "      <td>Ok age performance action drug start choose ra...</td>\n",
       "    </tr>\n",
       "    <tr>\n",
       "      <th>1</th>\n",
       "      <td>6539</td>\n",
       "      <td>05/02/2025</td>\n",
       "      <td>4</td>\n",
       "      <td>Nice game play poor least democratic name kitc...</td>\n",
       "    </tr>\n",
       "    <tr>\n",
       "      <th>2</th>\n",
       "      <td>926</td>\n",
       "      <td>22/02/2025</td>\n",
       "      <td>13</td>\n",
       "      <td>Certain task win standard rock face fish feeli...</td>\n",
       "    </tr>\n",
       "  </tbody>\n",
       "</table>\n",
       "</div>"
      ],
      "text/plain": [
       "   posts_id   post_date  topic_id  \\\n",
       "0      3517  01/02/2025        14   \n",
       "1      6539  05/02/2025         4   \n",
       "2       926  22/02/2025        13   \n",
       "\n",
       "                                             content  \n",
       "0  Ok age performance action drug start choose ra...  \n",
       "1  Nice game play poor least democratic name kitc...  \n",
       "2  Certain task win standard rock face fish feeli...  "
      ]
     },
     "execution_count": 146,
     "metadata": {},
     "output_type": "execute_result"
    }
   ],
   "source": [
    "Post.head(3)"
   ]
  },
  {
   "cell_type": "code",
   "execution_count": 147,
   "id": "2d0dd436-5c38-4be9-89e8-346fa1d1ce7c",
   "metadata": {},
   "outputs": [],
   "source": [
    "Post.columns=['id','date', 'topic_id', 'content']"
   ]
  },
  {
   "cell_type": "code",
   "execution_count": 148,
   "id": "685a8d64-23e0-4de5-a313-66e02966bf8a",
   "metadata": {},
   "outputs": [
    {
     "data": {
      "text/plain": [
       "15000"
      ]
     },
     "execution_count": 148,
     "metadata": {},
     "output_type": "execute_result"
    }
   ],
   "source": [
    "len(Post)"
   ]
  },
  {
   "cell_type": "code",
   "execution_count": 149,
   "id": "e395a340-1603-42e5-ab77-75b24c881d50",
   "metadata": {},
   "outputs": [],
   "source": [
    "Post.drop_duplicates(subset='id',inplace=True)"
   ]
  },
  {
   "cell_type": "code",
   "execution_count": 150,
   "id": "8d2f4e4b-edf4-4fa4-b6f5-914fe8b18daa",
   "metadata": {},
   "outputs": [
    {
     "data": {
      "text/html": [
       "<div>\n",
       "<style scoped>\n",
       "    .dataframe tbody tr th:only-of-type {\n",
       "        vertical-align: middle;\n",
       "    }\n",
       "\n",
       "    .dataframe tbody tr th {\n",
       "        vertical-align: top;\n",
       "    }\n",
       "\n",
       "    .dataframe thead th {\n",
       "        text-align: right;\n",
       "    }\n",
       "</style>\n",
       "<table border=\"1\" class=\"dataframe\">\n",
       "  <thead>\n",
       "    <tr style=\"text-align: right;\">\n",
       "      <th></th>\n",
       "      <th>id</th>\n",
       "      <th>date</th>\n",
       "      <th>topic_id</th>\n",
       "      <th>content</th>\n",
       "    </tr>\n",
       "  </thead>\n",
       "  <tbody>\n",
       "    <tr>\n",
       "      <th>0</th>\n",
       "      <td>3517</td>\n",
       "      <td>01/02/2025</td>\n",
       "      <td>14</td>\n",
       "      <td>Ok age performance action drug start choose ra...</td>\n",
       "    </tr>\n",
       "    <tr>\n",
       "      <th>1</th>\n",
       "      <td>6539</td>\n",
       "      <td>05/02/2025</td>\n",
       "      <td>4</td>\n",
       "      <td>Nice game play poor least democratic name kitc...</td>\n",
       "    </tr>\n",
       "    <tr>\n",
       "      <th>2</th>\n",
       "      <td>926</td>\n",
       "      <td>22/02/2025</td>\n",
       "      <td>13</td>\n",
       "      <td>Certain task win standard rock face fish feeli...</td>\n",
       "    </tr>\n",
       "  </tbody>\n",
       "</table>\n",
       "</div>"
      ],
      "text/plain": [
       "     id        date  topic_id  \\\n",
       "0  3517  01/02/2025        14   \n",
       "1  6539  05/02/2025         4   \n",
       "2   926  22/02/2025        13   \n",
       "\n",
       "                                             content  \n",
       "0  Ok age performance action drug start choose ra...  \n",
       "1  Nice game play poor least democratic name kitc...  \n",
       "2  Certain task win standard rock face fish feeli...  "
      ]
     },
     "execution_count": 150,
     "metadata": {},
     "output_type": "execute_result"
    }
   ],
   "source": [
    "Post.head(3)"
   ]
  },
  {
   "cell_type": "code",
   "execution_count": 151,
   "id": "66aae5c1-b5a8-4a58-87dc-3b8c9060d57f",
   "metadata": {},
   "outputs": [
    {
     "data": {
      "text/plain": [
       "7758"
      ]
     },
     "execution_count": 151,
     "metadata": {},
     "output_type": "execute_result"
    }
   ],
   "source": [
    "len(Post)"
   ]
  },
  {
   "cell_type": "code",
   "execution_count": 152,
   "id": "e5cfaff0-ca96-4cf5-aa09-7207495dc124",
   "metadata": {},
   "outputs": [],
   "source": [
    "User = df.loc[:,['users_id','user_name','email','signup_date']]\n"
   ]
  },
  {
   "cell_type": "code",
   "execution_count": 153,
   "id": "ad841978-04f1-453a-839b-e0dcc31aaf45",
   "metadata": {},
   "outputs": [
    {
     "data": {
      "text/html": [
       "<div>\n",
       "<style scoped>\n",
       "    .dataframe tbody tr th:only-of-type {\n",
       "        vertical-align: middle;\n",
       "    }\n",
       "\n",
       "    .dataframe tbody tr th {\n",
       "        vertical-align: top;\n",
       "    }\n",
       "\n",
       "    .dataframe thead th {\n",
       "        text-align: right;\n",
       "    }\n",
       "</style>\n",
       "<table border=\"1\" class=\"dataframe\">\n",
       "  <thead>\n",
       "    <tr style=\"text-align: right;\">\n",
       "      <th></th>\n",
       "      <th>users_id</th>\n",
       "      <th>user_name</th>\n",
       "      <th>email</th>\n",
       "      <th>signup_date</th>\n",
       "    </tr>\n",
       "  </thead>\n",
       "  <tbody>\n",
       "    <tr>\n",
       "      <th>0</th>\n",
       "      <td>217</td>\n",
       "      <td>Cameron Perez</td>\n",
       "      <td>pagenathaniel@example.net</td>\n",
       "      <td>08/02/2025</td>\n",
       "    </tr>\n",
       "    <tr>\n",
       "      <th>1</th>\n",
       "      <td>1678</td>\n",
       "      <td>Eric Nguyen</td>\n",
       "      <td>alisonklein@example.org</td>\n",
       "      <td>15/02/2025</td>\n",
       "    </tr>\n",
       "    <tr>\n",
       "      <th>2</th>\n",
       "      <td>4456</td>\n",
       "      <td>Brandon Lara</td>\n",
       "      <td>shawn30@example.net</td>\n",
       "      <td>04/02/2025</td>\n",
       "    </tr>\n",
       "  </tbody>\n",
       "</table>\n",
       "</div>"
      ],
      "text/plain": [
       "   users_id      user_name                      email signup_date\n",
       "0       217  Cameron Perez  pagenathaniel@example.net  08/02/2025\n",
       "1      1678    Eric Nguyen    alisonklein@example.org  15/02/2025\n",
       "2      4456   Brandon Lara        shawn30@example.net  04/02/2025"
      ]
     },
     "execution_count": 153,
     "metadata": {},
     "output_type": "execute_result"
    }
   ],
   "source": [
    "User.head(3)"
   ]
  },
  {
   "cell_type": "code",
   "execution_count": 154,
   "id": "7a92b086-baa6-42bc-9dac-44855013457a",
   "metadata": {},
   "outputs": [],
   "source": [
    "User.columns=['id','name', 'email', 'signup_date']"
   ]
  },
  {
   "cell_type": "code",
   "execution_count": 155,
   "id": "3185e046-a092-4788-9b6a-6fb6c88d4716",
   "metadata": {},
   "outputs": [],
   "source": [
    "User.drop_duplicates(subset='id',inplace=True)\n"
   ]
  },
  {
   "cell_type": "code",
   "execution_count": 156,
   "id": "23a430f7-67d6-493c-b8a4-6e96aec24e64",
   "metadata": {},
   "outputs": [
    {
     "data": {
      "text/plain": [
       "4743"
      ]
     },
     "execution_count": 156,
     "metadata": {},
     "output_type": "execute_result"
    }
   ],
   "source": [
    "len(User)"
   ]
  },
  {
   "cell_type": "code",
   "execution_count": 157,
   "id": "4b9cf1d1-23f0-4a16-b2d9-5a99a9254249",
   "metadata": {},
   "outputs": [
    {
     "data": {
      "text/html": [
       "<div>\n",
       "<style scoped>\n",
       "    .dataframe tbody tr th:only-of-type {\n",
       "        vertical-align: middle;\n",
       "    }\n",
       "\n",
       "    .dataframe tbody tr th {\n",
       "        vertical-align: top;\n",
       "    }\n",
       "\n",
       "    .dataframe thead th {\n",
       "        text-align: right;\n",
       "    }\n",
       "</style>\n",
       "<table border=\"1\" class=\"dataframe\">\n",
       "  <thead>\n",
       "    <tr style=\"text-align: right;\">\n",
       "      <th></th>\n",
       "      <th>id</th>\n",
       "      <th>name</th>\n",
       "      <th>email</th>\n",
       "      <th>signup_date</th>\n",
       "    </tr>\n",
       "  </thead>\n",
       "  <tbody>\n",
       "    <tr>\n",
       "      <th>0</th>\n",
       "      <td>217</td>\n",
       "      <td>Cameron Perez</td>\n",
       "      <td>pagenathaniel@example.net</td>\n",
       "      <td>08/02/2025</td>\n",
       "    </tr>\n",
       "    <tr>\n",
       "      <th>1</th>\n",
       "      <td>1678</td>\n",
       "      <td>Eric Nguyen</td>\n",
       "      <td>alisonklein@example.org</td>\n",
       "      <td>15/02/2025</td>\n",
       "    </tr>\n",
       "    <tr>\n",
       "      <th>2</th>\n",
       "      <td>4456</td>\n",
       "      <td>Brandon Lara</td>\n",
       "      <td>shawn30@example.net</td>\n",
       "      <td>04/02/2025</td>\n",
       "    </tr>\n",
       "  </tbody>\n",
       "</table>\n",
       "</div>"
      ],
      "text/plain": [
       "     id           name                      email signup_date\n",
       "0   217  Cameron Perez  pagenathaniel@example.net  08/02/2025\n",
       "1  1678    Eric Nguyen    alisonklein@example.org  15/02/2025\n",
       "2  4456   Brandon Lara        shawn30@example.net  04/02/2025"
      ]
     },
     "execution_count": 157,
     "metadata": {},
     "output_type": "execute_result"
    }
   ],
   "source": [
    "User.head(3)"
   ]
  },
  {
   "cell_type": "code",
   "execution_count": 158,
   "id": "e917de39-0b52-48c4-8c2f-cca7650d817a",
   "metadata": {},
   "outputs": [],
   "source": [
    "Topic = df.loc[:,['topic_id','topic_name','description']]\n"
   ]
  },
  {
   "cell_type": "code",
   "execution_count": 159,
   "id": "3e52e2fe-4586-458d-936b-1d20bfeedb23",
   "metadata": {},
   "outputs": [],
   "source": [
    "Topic.columns=['id','topic_name', 'description']"
   ]
  },
  {
   "cell_type": "code",
   "execution_count": 160,
   "id": "1aa9275a-a803-40c1-9a7f-c7c9fbaa6708",
   "metadata": {},
   "outputs": [],
   "source": [
    "Topic.drop_duplicates(subset='id',inplace=True)"
   ]
  },
  {
   "cell_type": "code",
   "execution_count": 161,
   "id": "e9fe492b-ca43-4180-bb21-cf1a1584069c",
   "metadata": {},
   "outputs": [
    {
     "data": {
      "text/plain": [
       "20"
      ]
     },
     "execution_count": 161,
     "metadata": {},
     "output_type": "execute_result"
    }
   ],
   "source": [
    "len(Topic)"
   ]
  },
  {
   "cell_type": "code",
   "execution_count": 162,
   "id": "3fa7c671-8870-428d-bad8-1938d9ac8946",
   "metadata": {},
   "outputs": [
    {
     "data": {
      "text/html": [
       "<div>\n",
       "<style scoped>\n",
       "    .dataframe tbody tr th:only-of-type {\n",
       "        vertical-align: middle;\n",
       "    }\n",
       "\n",
       "    .dataframe tbody tr th {\n",
       "        vertical-align: top;\n",
       "    }\n",
       "\n",
       "    .dataframe thead th {\n",
       "        text-align: right;\n",
       "    }\n",
       "</style>\n",
       "<table border=\"1\" class=\"dataframe\">\n",
       "  <thead>\n",
       "    <tr style=\"text-align: right;\">\n",
       "      <th></th>\n",
       "      <th>id</th>\n",
       "      <th>topic_name</th>\n",
       "      <th>description</th>\n",
       "    </tr>\n",
       "  </thead>\n",
       "  <tbody>\n",
       "    <tr>\n",
       "      <th>0</th>\n",
       "      <td>14</td>\n",
       "      <td>miss</td>\n",
       "      <td>Character effort color my which policy control...</td>\n",
       "    </tr>\n",
       "    <tr>\n",
       "      <th>1</th>\n",
       "      <td>4</td>\n",
       "      <td>everybody</td>\n",
       "      <td>Kid young Democrat week.</td>\n",
       "    </tr>\n",
       "    <tr>\n",
       "      <th>2</th>\n",
       "      <td>13</td>\n",
       "      <td>loss</td>\n",
       "      <td>Skin police agreement father.</td>\n",
       "    </tr>\n",
       "  </tbody>\n",
       "</table>\n",
       "</div>"
      ],
      "text/plain": [
       "   id topic_name                                        description\n",
       "0  14       miss  Character effort color my which policy control...\n",
       "1   4  everybody                           Kid young Democrat week.\n",
       "2  13       loss                      Skin police agreement father."
      ]
     },
     "execution_count": 162,
     "metadata": {},
     "output_type": "execute_result"
    }
   ],
   "source": [
    "Topic.head(3)"
   ]
  },
  {
   "cell_type": "code",
   "execution_count": 163,
   "id": "f46d2be1-b5e3-4685-aa4b-c8c46a561aff",
   "metadata": {},
   "outputs": [],
   "source": [
    "User_Post = df.loc[:,['users_id','posts_id','like_date']]"
   ]
  },
  {
   "cell_type": "code",
   "execution_count": 164,
   "id": "5af7a7bc-8d73-4be5-80c1-032d7f48e123",
   "metadata": {},
   "outputs": [],
   "source": [
    "User_Post.insert(0, 'id', range(1, len(User_Post) + 1))\n"
   ]
  },
  {
   "cell_type": "code",
   "execution_count": 165,
   "id": "db6c004b-4d01-4251-83ca-ae89ced46106",
   "metadata": {},
   "outputs": [
    {
     "data": {
      "text/html": [
       "<div>\n",
       "<style scoped>\n",
       "    .dataframe tbody tr th:only-of-type {\n",
       "        vertical-align: middle;\n",
       "    }\n",
       "\n",
       "    .dataframe tbody tr th {\n",
       "        vertical-align: top;\n",
       "    }\n",
       "\n",
       "    .dataframe thead th {\n",
       "        text-align: right;\n",
       "    }\n",
       "</style>\n",
       "<table border=\"1\" class=\"dataframe\">\n",
       "  <thead>\n",
       "    <tr style=\"text-align: right;\">\n",
       "      <th></th>\n",
       "      <th>id</th>\n",
       "      <th>users_id</th>\n",
       "      <th>posts_id</th>\n",
       "      <th>like_date</th>\n",
       "    </tr>\n",
       "  </thead>\n",
       "  <tbody>\n",
       "    <tr>\n",
       "      <th>0</th>\n",
       "      <td>1</td>\n",
       "      <td>217</td>\n",
       "      <td>3517</td>\n",
       "      <td>13/01/2025</td>\n",
       "    </tr>\n",
       "    <tr>\n",
       "      <th>1</th>\n",
       "      <td>2</td>\n",
       "      <td>1678</td>\n",
       "      <td>6539</td>\n",
       "      <td>19/01/2025</td>\n",
       "    </tr>\n",
       "    <tr>\n",
       "      <th>2</th>\n",
       "      <td>3</td>\n",
       "      <td>4456</td>\n",
       "      <td>926</td>\n",
       "      <td>13/02/2025</td>\n",
       "    </tr>\n",
       "  </tbody>\n",
       "</table>\n",
       "</div>"
      ],
      "text/plain": [
       "   id  users_id  posts_id   like_date\n",
       "0   1       217      3517  13/01/2025\n",
       "1   2      1678      6539  19/01/2025\n",
       "2   3      4456       926  13/02/2025"
      ]
     },
     "execution_count": 165,
     "metadata": {},
     "output_type": "execute_result"
    }
   ],
   "source": [
    "User_Post.head(3)"
   ]
  },
  {
   "cell_type": "code",
   "execution_count": 166,
   "id": "a7af4423-20b5-4959-805f-d884ee1a1258",
   "metadata": {},
   "outputs": [],
   "source": [
    "User_Post.columns=['id','user_id', 'post_id','like_date']"
   ]
  },
  {
   "cell_type": "code",
   "execution_count": 167,
   "id": "9deaa485-4100-4fb2-a1ea-d53299ed3295",
   "metadata": {},
   "outputs": [
    {
     "data": {
      "text/html": [
       "<div>\n",
       "<style scoped>\n",
       "    .dataframe tbody tr th:only-of-type {\n",
       "        vertical-align: middle;\n",
       "    }\n",
       "\n",
       "    .dataframe tbody tr th {\n",
       "        vertical-align: top;\n",
       "    }\n",
       "\n",
       "    .dataframe thead th {\n",
       "        text-align: right;\n",
       "    }\n",
       "</style>\n",
       "<table border=\"1\" class=\"dataframe\">\n",
       "  <thead>\n",
       "    <tr style=\"text-align: right;\">\n",
       "      <th></th>\n",
       "      <th>id</th>\n",
       "      <th>user_id</th>\n",
       "      <th>post_id</th>\n",
       "      <th>like_date</th>\n",
       "    </tr>\n",
       "  </thead>\n",
       "  <tbody>\n",
       "    <tr>\n",
       "      <th>0</th>\n",
       "      <td>1</td>\n",
       "      <td>217</td>\n",
       "      <td>3517</td>\n",
       "      <td>13/01/2025</td>\n",
       "    </tr>\n",
       "    <tr>\n",
       "      <th>1</th>\n",
       "      <td>2</td>\n",
       "      <td>1678</td>\n",
       "      <td>6539</td>\n",
       "      <td>19/01/2025</td>\n",
       "    </tr>\n",
       "    <tr>\n",
       "      <th>2</th>\n",
       "      <td>3</td>\n",
       "      <td>4456</td>\n",
       "      <td>926</td>\n",
       "      <td>13/02/2025</td>\n",
       "    </tr>\n",
       "  </tbody>\n",
       "</table>\n",
       "</div>"
      ],
      "text/plain": [
       "   id  user_id  post_id   like_date\n",
       "0   1      217     3517  13/01/2025\n",
       "1   2     1678     6539  19/01/2025\n",
       "2   3     4456      926  13/02/2025"
      ]
     },
     "execution_count": 167,
     "metadata": {},
     "output_type": "execute_result"
    }
   ],
   "source": [
    "User_Post.head(3)"
   ]
  },
  {
   "cell_type": "code",
   "execution_count": 168,
   "id": "0142fcbf-81d6-4758-9330-e91f98bc95db",
   "metadata": {},
   "outputs": [],
   "source": [
    "from sqlalchemy import create_engine"
   ]
  },
  {
   "cell_type": "code",
   "execution_count": 169,
   "id": "aed856a0-b215-4117-8d46-56d0bf35d23d",
   "metadata": {},
   "outputs": [],
   "source": [
    "engine = create_engine('sqlite:///socialmedia.db')"
   ]
  },
  {
   "cell_type": "code",
   "execution_count": 170,
   "id": "f3358bc1-0c48-4542-ac6a-c6be1facb411",
   "metadata": {},
   "outputs": [
    {
     "data": {
      "text/plain": [
       "4743"
      ]
     },
     "execution_count": 170,
     "metadata": {},
     "output_type": "execute_result"
    }
   ],
   "source": [
    "User.to_sql('user', con =engine, if_exists='replace', index=False)"
   ]
  },
  {
   "cell_type": "code",
   "execution_count": 171,
   "id": "5a187592-214f-4ad5-b944-f1c699e25355",
   "metadata": {},
   "outputs": [
    {
     "data": {
      "text/plain": [
       "7758"
      ]
     },
     "execution_count": 171,
     "metadata": {},
     "output_type": "execute_result"
    }
   ],
   "source": [
    "Post.to_sql('post', con =engine, if_exists='replace', index=False)"
   ]
  },
  {
   "cell_type": "code",
   "execution_count": 172,
   "id": "2d7002b5-05fc-4112-95ab-15d3d812f7c7",
   "metadata": {},
   "outputs": [
    {
     "data": {
      "text/plain": [
       "20"
      ]
     },
     "execution_count": 172,
     "metadata": {},
     "output_type": "execute_result"
    }
   ],
   "source": [
    "Topic.to_sql('topic', con =engine, if_exists='replace', index=False)"
   ]
  },
  {
   "cell_type": "code",
   "execution_count": 173,
   "id": "57c6da2b-f46e-4317-9639-adad3f333d00",
   "metadata": {},
   "outputs": [
    {
     "data": {
      "text/plain": [
       "15000"
      ]
     },
     "execution_count": 173,
     "metadata": {},
     "output_type": "execute_result"
    }
   ],
   "source": [
    "User_Post.to_sql('user_post', con =engine, if_exists='replace', index=False)"
   ]
  },
  {
   "cell_type": "code",
   "execution_count": 174,
   "id": "21612343-7e07-47f2-b1bc-50861201c3d2",
   "metadata": {},
   "outputs": [],
   "source": [
    "engine.dispose()\n"
   ]
  },
  {
   "cell_type": "code",
   "execution_count": null,
   "id": "0d33fee5-9a35-4ecd-b1aa-feafabaed40a",
   "metadata": {},
   "outputs": [],
   "source": []
  }
 ],
 "metadata": {
  "kernelspec": {
   "display_name": "Python 3 (ipykernel)",
   "language": "python",
   "name": "python3"
  },
  "language_info": {
   "codemirror_mode": {
    "name": "ipython",
    "version": 3
   },
   "file_extension": ".py",
   "mimetype": "text/x-python",
   "name": "python",
   "nbconvert_exporter": "python",
   "pygments_lexer": "ipython3",
   "version": "3.12.4"
  }
 },
 "nbformat": 4,
 "nbformat_minor": 5
}
